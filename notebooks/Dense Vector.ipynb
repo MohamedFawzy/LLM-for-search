{
 "cells": [
  {
   "cell_type": "code",
   "execution_count": 1,
   "id": "1f312a1c",
   "metadata": {},
   "outputs": [],
   "source": [
    "import os\n",
    "from dotenv import load_dotenv, find_dotenv\n",
    "_ = load_dotenv(find_dotenv())"
   ]
  },
  {
   "cell_type": "code",
   "execution_count": 2,
   "id": "4d8675d3",
   "metadata": {},
   "outputs": [],
   "source": [
    "import cohere\n",
    "co = cohere.Client(os.environ['COHERE_API_KEY'])"
   ]
  },
  {
   "cell_type": "code",
   "execution_count": 3,
   "id": "e198d03c",
   "metadata": {},
   "outputs": [],
   "source": [
    "import weaviate\n",
    "auth_config = weaviate.auth.AuthApiKey(api_key=os.environ['WEAVIATE_API_KEY'])"
   ]
  },
  {
   "cell_type": "code",
   "execution_count": 4,
   "id": "3ab85123",
   "metadata": {},
   "outputs": [
    {
     "data": {
      "text/plain": [
       "True"
      ]
     },
     "execution_count": 4,
     "metadata": {},
     "output_type": "execute_result"
    }
   ],
   "source": [
    "client = weaviate.Client(\n",
    "    url=os.environ['WEAVIATE_API_URL'],\n",
    "    auth_client_secret=auth_config,\n",
    "    additional_headers={\n",
    "        \"X-Cohere-Api-Key\": os.environ['COHERE_API_KEY'],\n",
    "    }\n",
    ")\n",
    "client.is_ready() #check if True"
   ]
  },
  {
   "cell_type": "code",
   "execution_count": 6,
   "id": "8a24e997",
   "metadata": {},
   "outputs": [],
   "source": [
    "def dense_retrieval(query, \n",
    "                    results_lang='en', \n",
    "                    properties = [\"text\", \"title\", \"url\", \"views\", \"lang\", \"_additional {distance}\"],\n",
    "                    num_results=5):\n",
    "\n",
    "    nearText = {\"concepts\": [query]}\n",
    "    \n",
    "    # To filter by language\n",
    "    where_filter = {\n",
    "    \"path\": [\"lang\"],\n",
    "    \"operator\": \"Equal\",\n",
    "    \"valueString\": results_lang\n",
    "    }\n",
    "    response = (\n",
    "        client.query\n",
    "        .get(\"Articles\", properties)\n",
    "        .with_near_text(nearText)\n",
    "        .with_where(where_filter)\n",
    "        .with_limit(num_results)\n",
    "        .do()\n",
    "    )\n",
    "\n",
    "    result = response['data']['Get']['Articles']\n",
    "\n",
    "    return result"
   ]
  },
  {
   "cell_type": "code",
   "execution_count": null,
   "id": "48c06d89",
   "metadata": {},
   "outputs": [],
   "source": []
  }
 ],
 "metadata": {
  "kernelspec": {
   "display_name": "Python 3 (ipykernel)",
   "language": "python",
   "name": "python3"
  },
  "language_info": {
   "codemirror_mode": {
    "name": "ipython",
    "version": 3
   },
   "file_extension": ".py",
   "mimetype": "text/x-python",
   "name": "python",
   "nbconvert_exporter": "python",
   "pygments_lexer": "ipython3",
   "version": "3.11.3"
  }
 },
 "nbformat": 4,
 "nbformat_minor": 5
}
