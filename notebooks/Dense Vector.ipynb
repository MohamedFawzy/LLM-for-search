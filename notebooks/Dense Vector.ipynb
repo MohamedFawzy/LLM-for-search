{
 "cells": [
  {
   "cell_type": "code",
   "execution_count": 1,
   "id": "b79ed1f3",
   "metadata": {},
   "outputs": [],
   "source": [
    "import os\n",
    "from dotenv import load_dotenv, find_dotenv\n",
    "_ = load_dotenv(find_dotenv())"
   ]
  },
  {
   "cell_type": "code",
   "execution_count": 2,
   "id": "3843502a",
   "metadata": {},
   "outputs": [],
   "source": [
    "import cohere\n",
    "co = cohere.Client(os.environ['COHERE_API_KEY'])"
   ]
  },
  {
   "cell_type": "code",
   "execution_count": 3,
   "id": "cd2e9241",
   "metadata": {},
   "outputs": [],
   "source": [
    "import weaviate\n",
    "auth_config = weaviate.auth.AuthApiKey(api_key=os.environ['WEAVIATE_API_KEY'])"
   ]
  },
  {
   "cell_type": "code",
   "execution_count": 4,
   "id": "e075954c",
   "metadata": {},
   "outputs": [
    {
     "data": {
      "text/plain": [
       "True"
      ]
     },
     "execution_count": 4,
     "metadata": {},
     "output_type": "execute_result"
    }
   ],
   "source": [
    "client = weaviate.Client(\n",
    "    url=os.environ['WEAVIATE_API_URL'],\n",
    "    auth_client_secret=auth_config,\n",
    "    additional_headers={\n",
    "        \"X-Cohere-Api-Key\": os.environ['COHERE_API_KEY'],\n",
    "    }\n",
    ")\n",
    "client.is_ready() #check if True"
   ]
  },
  {
   "cell_type": "code",
   "execution_count": 5,
   "id": "195855df",
   "metadata": {},
   "outputs": [],
   "source": [
    "def dense_retrieval(query, \n",
    "                    results_lang='en', \n",
    "                    properties = [\"text\", \"title\", \"url\", \"views\", \"lang\", \"_additional {distance}\"],\n",
    "                    num_results=5):\n",
    "\n",
    "    nearText = {\"concepts\": [query]}\n",
    "    \n",
    "    # To filter by language\n",
    "    where_filter = {\n",
    "    \"path\": [\"lang\"],\n",
    "    \"operator\": \"Equal\",\n",
    "    \"valueString\": results_lang\n",
    "    }\n",
    "    response = (\n",
    "        client.query\n",
    "        .get(\"Articles\", properties)\n",
    "        .with_near_text(nearText)\n",
    "        .with_where(where_filter)\n",
    "        .with_limit(num_results)\n",
    "        .do()\n",
    "    )\n",
    "\n",
    "    result = response['data']['Get']['Articles']\n",
    "\n",
    "    return result"
   ]
  },
  {
   "cell_type": "code",
   "execution_count": 6,
   "id": "9f3c2abc",
   "metadata": {},
   "outputs": [
    {
     "name": "stderr",
     "output_type": "stream",
     "text": [
      "/home/mofawzy/anaconda3/envs/pytorch/lib/python3.11/site-packages/umap/__init__.py:9: ImportWarning: Tensorflow not installed; ParametricUMAP will be unavailable\n",
      "  warn(\n"
     ]
    }
   ],
   "source": [
    "from utils import print_result"
   ]
  },
  {
   "cell_type": "markdown",
   "id": "f6d9ce5d",
   "metadata": {},
   "source": [
    "### Basic Query"
   ]
  },
  {
   "cell_type": "code",
   "execution_count": 7,
   "id": "493ad653",
   "metadata": {},
   "outputs": [
    {
     "name": "stdout",
     "output_type": "stream",
     "text": [
      "item 0\n",
      "_additional:{'distance': -155.49983}\n",
      "\n",
      "lang:en\n",
      "\n",
      "text:There are many works that have been pointed to as possible sources for Shakespeare's play—from ancient Greek tragedies to Elizabethan plays. The editors of the Arden Shakespeare question the idea of \"source hunting\", pointing out that it presupposes that authors always require ideas from other works for their own, and suggests that no author can have an original idea or be an originator. When Shakespeare wrote there were many stories about sons avenging the murder of their fathers, and many about clever avenging sons pretending to be foolish in order to outsmart their foes. This would include the story of the ancient Roman, Lucius Junius Brutus, which Shakespeare apparently knew, as well as the story of Amleth, which was preserved in Latin by 13th-century chronicler Saxo Grammaticus in his \"Gesta Danorum\", and printed in Paris in 1514. The Amleth story was subsequently adapted and then published in French in 1570 by the 16th-century scholar François de Belleforest. It has a number of plot elements and major characters in common with Shakespeare's \"Hamlet\", and lacks others that are found in Shakespeare. Belleforest's story was first published in English in 1608, after \"Hamlet\" had been written, though it's possible that Shakespeare had encountered it in the French-language version.\n",
      "\n",
      "title:Hamlet\n",
      "\n",
      "url:https://en.wikipedia.org/wiki?curid=13554\n",
      "\n",
      "views:3000\n",
      "\n",
      "\n",
      "item 1\n",
      "_additional:{'distance': -155.40758}\n",
      "\n",
      "lang:en\n",
      "\n",
      "text:English poet John Milton was an early admirer of Shakespeare and took evident inspiration from his work. As John Kerrigan discusses, Milton originally considered writing his epic poem \"Paradise Lost\" (1667) as a tragedy. While Milton did not ultimately go that route, the poem still shows distinct echoes of Shakespearean revenge tragedy, and of \"Hamlet\" in particular. As scholar Christopher N. Warren argues, \"Paradise Lost\"s Satan \"undergoes a transformation in the poem from a Hamlet-like avenger into a Claudius-like usurper,\" a plot device that supports Milton's larger Republican internationalist project. The poem also reworks theatrical language from \"Hamlet\", especially around the idea of \"putting on\" certain dispositions, as when Hamlet puts on \"an antic disposition,\" similarly to the Son in \"Paradise Lost\" who \"can put on / [God's] terrors.\"\n",
      "\n",
      "title:Hamlet\n",
      "\n",
      "url:https://en.wikipedia.org/wiki?curid=13554\n",
      "\n",
      "views:3000\n",
      "\n",
      "\n",
      "item 2\n",
      "_additional:{'distance': -153.8305}\n",
      "\n",
      "lang:en\n",
      "\n",
      "text:The Tragedy of Hamlet, Prince of Denmark, often shortened to Hamlet (), is a tragedy written by William Shakespeare sometime between 1599 and 1601. It is Shakespeare's longest play, with 29,551 words. Set in Denmark, the play depicts Prince Hamlet and his attempts to exact revenge against his uncle, Claudius, who has murdered Hamlet's father in order to seize his throne and marry Hamlet's mother.\n",
      "\n",
      "title:Hamlet\n",
      "\n",
      "url:https://en.wikipedia.org/wiki?curid=13554\n",
      "\n",
      "views:3000\n",
      "\n",
      "\n",
      "item 3\n",
      "_additional:{'distance': -153.6352}\n",
      "\n",
      "lang:en\n",
      "\n",
      "text:Shakespeare almost certainly wrote the role of Hamlet for Richard Burbage. He was the chief tragedian of the Lord Chamberlain's Men, with a capacious memory for lines and a wide emotional range. Judging by the number of reprints, \"Hamlet\" appears to have been Shakespeare's fourth most popular play during his lifetime—only \"Henry IV Part 1\", \"Richard III\" and \"Pericles\" eclipsed it. Shakespeare provides no clear indication of when his play is set; however, as Elizabethan actors performed at the Globe in contemporary dress on minimal sets, this would not have affected the staging.\n",
      "\n",
      "title:Hamlet\n",
      "\n",
      "url:https://en.wikipedia.org/wiki?curid=13554\n",
      "\n",
      "views:3000\n",
      "\n",
      "\n",
      "item 4\n",
      "_additional:{'distance': -153.55968}\n",
      "\n",
      "lang:en\n",
      "\n",
      "text:In 1598, Francis Meres published his \"Palladis Tamia\", a survey of English literature from Chaucer to its present day, within which twelve of Shakespeare's plays are named. \"Hamlet\" is not among them, suggesting that it had not yet been written. As \"Hamlet\" was very popular, Bernard Lott, the series editor of \"New Swan\", believes it \"unlikely that he [Meres] would have overlooked ... so significant a piece\".\n",
      "\n",
      "title:Hamlet\n",
      "\n",
      "url:https://en.wikipedia.org/wiki?curid=13554\n",
      "\n",
      "views:3000\n",
      "\n",
      "\n"
     ]
    }
   ],
   "source": [
    "query = 'Who Wrote Hamlet?'\n",
    "dense_retrieval_results = dense_retrieval(query)\n",
    "print_result(dense_retrieval_results)"
   ]
  },
  {
   "cell_type": "markdown",
   "id": "996e3969",
   "metadata": {},
   "source": [
    "### Medium Query"
   ]
  },
  {
   "cell_type": "code",
   "execution_count": null,
   "id": "6b9525ff",
   "metadata": {},
   "outputs": [],
   "source": [
    "query = \"What is the capital of Canada?\"\n",
    "dense_retrieval_results = dense_retrieval(query)\n",
    "print_result(dense_retrieval_results)"
   ]
  },
  {
   "cell_type": "code",
   "execution_count": null,
   "id": "99654f22",
   "metadata": {},
   "outputs": [],
   "source": []
  }
 ],
 "metadata": {
  "kernelspec": {
   "display_name": "Python 3 (ipykernel)",
   "language": "python",
   "name": "python3"
  },
  "language_info": {
   "codemirror_mode": {
    "name": "ipython",
    "version": 3
   },
   "file_extension": ".py",
   "mimetype": "text/x-python",
   "name": "python",
   "nbconvert_exporter": "python",
   "pygments_lexer": "ipython3",
   "version": "3.11.3"
  }
 },
 "nbformat": 4,
 "nbformat_minor": 5
}
