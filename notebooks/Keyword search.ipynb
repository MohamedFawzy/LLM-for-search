{
 "cells": [
  {
   "cell_type": "markdown",
   "id": "1f112169",
   "metadata": {},
   "source": [
    "# Keyword Search\n",
    "\n",
    "## Setup"
   ]
  },
  {
   "cell_type": "code",
   "execution_count": 1,
   "id": "3cf3d369",
   "metadata": {},
   "outputs": [],
   "source": [
    "!pip install cohere > /dev/null\n",
    "!pip install weaviate-client > /dev/null\n",
    "!pip install python-dotenv > /dev/null"
   ]
  },
  {
   "cell_type": "code",
   "execution_count": 1,
   "id": "8193bc38",
   "metadata": {},
   "outputs": [],
   "source": [
    "import os\n",
    "from dotenv import load_dotenv, find_dotenv"
   ]
  },
  {
   "cell_type": "markdown",
   "id": "b567e568",
   "metadata": {},
   "source": [
    "Let's start by imporing Weaviate to access the Wikipedia database.\n",
    "\n",
    "the dataset contains 10 million articles in multiple languages."
   ]
  },
  {
   "cell_type": "code",
   "execution_count": 2,
   "id": "f75e771e",
   "metadata": {},
   "outputs": [],
   "source": [
    "import weaviate\n",
    "auth_config = weaviate.auth.AuthApiKey(\n",
    "    api_key=os.environ['WEAVIATE_API_KEY'])"
   ]
  },
  {
   "cell_type": "code",
   "execution_count": 4,
   "id": "459a3732",
   "metadata": {},
   "outputs": [],
   "source": [
    "client = weaviate.Client(\n",
    "    url=\"https://cohere-demo.weaviate.network/\",\n",
    "    auth_client_secret=auth_config,\n",
    "    additional_headers = {\n",
    "        'X-Choere-Api-Key': os.environ['COHERE_API_KEY']\n",
    "    }\n",
    ")"
   ]
  },
  {
   "cell_type": "code",
   "execution_count": 5,
   "id": "42502ce8",
   "metadata": {},
   "outputs": [
    {
     "data": {
      "text/plain": [
       "True"
      ]
     },
     "execution_count": 5,
     "metadata": {},
     "output_type": "execute_result"
    }
   ],
   "source": [
    "client.is_ready()"
   ]
  },
  {
   "cell_type": "code",
   "execution_count": null,
   "id": "6f4273b3",
   "metadata": {},
   "outputs": [],
   "source": []
  }
 ],
 "metadata": {
  "kernelspec": {
   "display_name": "Python 3 (ipykernel)",
   "language": "python",
   "name": "python3"
  },
  "language_info": {
   "codemirror_mode": {
    "name": "ipython",
    "version": 3
   },
   "file_extension": ".py",
   "mimetype": "text/x-python",
   "name": "python",
   "nbconvert_exporter": "python",
   "pygments_lexer": "ipython3",
   "version": "3.11.3"
  }
 },
 "nbformat": 4,
 "nbformat_minor": 5
}
